{
 "cells": [
  {
   "cell_type": "code",
   "execution_count": 7,
   "id": "3503edad",
   "metadata": {},
   "outputs": [
    {
     "name": "stdout",
     "output_type": "stream",
     "text": [
      "olma va bodring \n",
      "\n",
      "Olma va Bodring\n",
      "uzum va piyoz \n",
      "\n",
      "Uzum va Piyoz\n",
      "anor va kartoshka \n",
      "\n",
      "Anor va Kartoshka\n",
      "nok va pomidor \n",
      "\n",
      "Nok va Pomidor\n",
      "shaftoli va sabzi \n",
      "\n",
      "Shaftoli va Sabzi\n"
     ]
    }
   ],
   "source": [
    "mevalar = [\"olma\", \"uzum\", \"anor\", \"nok\", \"shaftoli\"]\n",
    "savzavotlar = [\"bodring\", \"piyoz\", \"kartoshka\", \"pomidor\", \"sabzi\"]\n",
    "\n",
    "for mevalar, savzavotlar in zip(mevalar, savzavotlar):\n",
    "    print(f\"{mevalar} va {savzavotlar} \\n\")\n",
    "    print(f\"{mevalar.title()} va {savzavotlar.title()}\")"
   ]
  },
  {
   "cell_type": "code",
   "execution_count": 14,
   "id": "f67c2d39",
   "metadata": {},
   "outputs": [
    {
     "name": "stdout",
     "output_type": "stream",
     "text": [
      "Apple: 2\n",
      "Men Apple ni 2 dona bor.\n",
      "Men apple ni 2 dona bor.\n",
      "Banana: 3\n",
      "Men Banana ni 3 dona bor.\n",
      "Men banana ni 3 dona bor.\n",
      "Orange: 1\n",
      "Men Orange ni 1 dona bor.\n",
      "Men orange ni 1 dona bor.\n",
      "Grape: 4\n",
      "Men Grape ni 4 dona bor.\n",
      "Men grape ni 4 dona bor.\n",
      "Kiwi: 5\n",
      "Men Kiwi ni 5 dona bor.\n",
      "Men kiwi ni 5 dona bor.\n",
      "Mango: 2\n",
      "Men Mango ni 2 dona bor.\n",
      "Men mango ni 2 dona bor.\n",
      "Peach: 3\n",
      "Men Peach ni 3 dona bor.\n",
      "Men peach ni 3 dona bor.\n",
      "Pear: 1\n",
      "Men Pear ni 1 dona bor.\n",
      "Men pear ni 1 dona bor.\n",
      "Plum: 4\n",
      "Men Plum ni 4 dona bor.\n",
      "Men plum ni 4 dona bor.\n",
      "Cherry: 5\n",
      "Men Cherry ni 5 dona bor.\n",
      "Men cherry ni 5 dona bor.\n"
     ]
    }
   ],
   "source": [
    "my_items = {'apple': 2, 'banana': 3, 'orange': 1, 'grape': 4, 'kiwi': 5, 'mango': 2, 'peach': 3, 'pear': 1, 'plum': 4, 'cherry': 5}\n",
    "for item, quantity in my_items.items():\n",
    "    print(f\"{item.title()}: {quantity}\")\n",
    "    print(f\"Men {item.title()} ni {quantity} dona bor.\")\n",
    "    print(f\"Men {item} ni {quantity} dona bor.\")"
   ]
  },
  {
   "cell_type": "code",
   "execution_count": 17,
   "id": "48b49491",
   "metadata": {},
   "outputs": [],
   "source": [
    "def salom_ber():\n",
    "    print(\"Salom, dunyo!\")"
   ]
  },
  {
   "cell_type": "code",
   "execution_count": 27,
   "id": "48de849b",
   "metadata": {},
   "outputs": [],
   "source": [
    "def greet_user(username):\n",
    "    print(f\"Hello, {username}!\")\n",
    "    print(f\"Salom, {username.title()}!\")"
   ]
  },
  {
   "cell_type": "code",
   "execution_count": 28,
   "id": "8565a731",
   "metadata": {},
   "outputs": [
    {
     "name": "stdout",
     "output_type": "stream",
     "text": [
      "Hello, alisher!\n",
      "Salom, Alisher!\n"
     ]
    }
   ],
   "source": [
    "greet_user(\"alisher\")"
   ]
  },
  {
   "cell_type": "code",
   "execution_count": 29,
   "id": "24e38596",
   "metadata": {},
   "outputs": [],
   "source": [
    "with open(\"dostlar.txt\", \"w\") as file:\n",
    "    file.write(\"Ali\\n\")\n",
    "    file.write(\"Vali\\n\")\n",
    "    file.write(\"Guli\\n\")"
   ]
  },
  {
   "cell_type": "code",
   "execution_count": 30,
   "id": "5ad19ed4",
   "metadata": {},
   "outputs": [
    {
     "name": "stdout",
     "output_type": "stream",
     "text": [
      "Ali\n",
      "Vali\n",
      "Guli\n"
     ]
    }
   ],
   "source": [
    "with open(\"dostlar.txt\", \"r\") as file:\n",
    "    for line in file:\n",
    "        print(line.strip())"
   ]
  },
  {
   "cell_type": "code",
   "execution_count": 31,
   "id": "146ffdc9",
   "metadata": {},
   "outputs": [],
   "source": [
    "filename = \"new_users.txt\"\n",
    "with open(filename, \"w\") as file_object:\n",
    "    file_object.write(\"alisher\\n\")\n",
    "    file_object.write(\"vali\\n\")\n",
    "    file_object.write(\"gulbahor\\n\")\n",
    "    file_object.write(\"umar\\n\")\n",
    "    file_object.write(\"hasan\\n\")\n",
    "    file_object.write(\"husan\\n\")"
   ]
  },
  {
   "cell_type": "code",
   "execution_count": 33,
   "id": "027d17ab",
   "metadata": {},
   "outputs": [
    {
     "name": "stdout",
     "output_type": "stream",
     "text": [
      "alisher\n",
      "vali\n",
      "gulbahor\n",
      "umar\n",
      "hasan\n",
      "husan\n"
     ]
    }
   ],
   "source": [
    "with open(\"new_users.txt\", \"r\") as file:\n",
    "    for line in file:\n",
    "        print(line.strip())"
   ]
  }
 ],
 "metadata": {
  "kernelspec": {
   "display_name": "venv",
   "language": "python",
   "name": "python3"
  },
  "language_info": {
   "codemirror_mode": {
    "name": "ipython",
    "version": 3
   },
   "file_extension": ".py",
   "mimetype": "text/x-python",
   "name": "python",
   "nbconvert_exporter": "python",
   "pygments_lexer": "ipython3",
   "version": "3.12.3"
  }
 },
 "nbformat": 4,
 "nbformat_minor": 5
}
