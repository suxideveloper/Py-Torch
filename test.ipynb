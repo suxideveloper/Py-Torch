{
 "cells": [
  {
   "cell_type": "code",
   "execution_count": 1,
   "id": "a821bde1",
   "metadata": {},
   "outputs": [
    {
     "name": "stdout",
     "output_type": "stream",
     "text": [
      "tensor([1, 2, 3, 4, 5])\n"
     ]
    }
   ],
   "source": [
    "import torch\n",
    "data = [1, 2, 3, 4, 5]\n",
    "v_data = torch.tensor(data)\n",
    "print(v_data)"
   ]
  },
  {
   "cell_type": "code",
   "execution_count": 2,
   "id": "c6f8cf7a",
   "metadata": {},
   "outputs": [
    {
     "data": {
      "text/plain": [
       "(tensor([[[ 0.8473, -0.7839,  1.0505,  0.2394,  0.1651],\n",
       "          [-1.2120, -0.2884,  0.9448, -0.9474, -0.5664],\n",
       "          [-0.5228,  0.7189, -1.4021,  0.0332,  1.5680],\n",
       "          [-0.1183,  0.3822,  0.2637,  0.6080,  0.8967]],\n",
       " \n",
       "         [[-0.2503, -0.6725,  0.9487,  1.3290, -2.5550],\n",
       "          [-0.8085,  0.2799,  0.4924, -0.8492, -0.4800],\n",
       "          [-1.3407, -0.3282, -0.7248, -0.6441,  0.9694],\n",
       "          [ 0.5347, -0.7558,  1.3679, -0.3848,  0.7338]],\n",
       " \n",
       "         [[-0.3089, -2.2886,  0.2882, -0.6511,  0.0942],\n",
       "          [-0.2213, -0.0042,  0.6410, -0.2145, -0.5608],\n",
       "          [-0.7876, -0.4298,  1.5528,  0.3125,  1.0998],\n",
       "          [ 1.4919, -0.4479,  0.1621, -0.7559,  1.7567]]], dtype=torch.float64),\n",
       " tensor([[[-2.0641e+00, -8.1564e-01, -1.5994e+00, -3.4718e-01, -9.2123e-02],\n",
       "          [-8.0257e-01, -1.4371e+00,  1.2366e+00,  4.5547e-01,  2.8273e-01],\n",
       "          [ 6.2389e-01,  1.6404e+00, -1.7669e-01,  2.4701e-01, -1.9432e-03],\n",
       "          [ 1.0960e+00, -2.6605e-01,  4.5783e-01,  3.1708e-01,  5.3565e-01]],\n",
       " \n",
       "         [[-8.3029e-01, -1.3710e+00,  1.7974e+00, -8.4514e-01,  2.6562e-01],\n",
       "          [ 8.2979e-01,  1.6771e-02, -1.0525e+00, -8.4736e-01, -5.9060e-01],\n",
       "          [-1.5292e+00, -4.3757e-01, -4.4890e-01, -2.5990e-02,  2.1063e+00],\n",
       "          [-4.8612e-01,  7.3935e-01,  5.4856e-01, -1.8624e-01, -1.4298e-02]],\n",
       " \n",
       "         [[ 9.3321e-01, -1.2378e+00, -8.8757e-01, -1.1656e+00, -7.6725e-01],\n",
       "          [-1.1601e-01, -8.5341e-01, -1.3077e-01, -1.6386e-01, -3.1267e-02],\n",
       "          [ 1.3916e-01,  1.9694e-02, -1.2176e+00, -5.8422e-01,  1.5096e+00],\n",
       "          [ 2.0055e+00, -1.0431e+00, -5.8111e-01, -8.6309e-01,  5.3139e-03]]]))"
      ]
     },
     "execution_count": 2,
     "metadata": {},
     "output_type": "execute_result"
    }
   ],
   "source": [
    "x = torch.randn(3, 4, 5)\n",
    "\n",
    "d = torch.randn(3, 4, 5, dtype = torch.float64)\n",
    "d, x"
   ]
  },
  {
   "cell_type": "code",
   "execution_count": 3,
   "id": "60fe043a",
   "metadata": {},
   "outputs": [
    {
     "data": {
      "text/plain": [
       "tensor([[[0, 0, 0],\n",
       "         [0, 0, 0],\n",
       "         [0, 0, 0],\n",
       "         [0, 0, 0],\n",
       "         [0, 0, 0]],\n",
       "\n",
       "        [[0, 0, 0],\n",
       "         [0, 0, 0],\n",
       "         [0, 0, 0],\n",
       "         [0, 0, 0],\n",
       "         [0, 0, 0]],\n",
       "\n",
       "        [[0, 0, 0],\n",
       "         [0, 0, 0],\n",
       "         [0, 0, 0],\n",
       "         [0, 0, 0],\n",
       "         [0, 0, 0]],\n",
       "\n",
       "        [[0, 0, 0],\n",
       "         [0, 0, 0],\n",
       "         [0, 0, 0],\n",
       "         [0, 0, 0],\n",
       "         [0, 0, 0]]], dtype=torch.int32)"
      ]
     },
     "execution_count": 3,
     "metadata": {},
     "output_type": "execute_result"
    }
   ],
   "source": [
    "import torch \n",
    "\n",
    "a = torch.zeros(4, 5, 3, dtype = torch.int32)\n",
    "a"
   ]
  },
  {
   "cell_type": "code",
   "execution_count": 4,
   "id": "c8ec8ec7",
   "metadata": {},
   "outputs": [
    {
     "data": {
      "text/plain": [
       "tensor([[[1., 1., 1., 1., 1.],\n",
       "         [1., 1., 1., 1., 1.],\n",
       "         [1., 1., 1., 1., 1.],\n",
       "         [1., 1., 1., 1., 1.]],\n",
       "\n",
       "        [[1., 1., 1., 1., 1.],\n",
       "         [1., 1., 1., 1., 1.],\n",
       "         [1., 1., 1., 1., 1.],\n",
       "         [1., 1., 1., 1., 1.]],\n",
       "\n",
       "        [[1., 1., 1., 1., 1.],\n",
       "         [1., 1., 1., 1., 1.],\n",
       "         [1., 1., 1., 1., 1.],\n",
       "         [1., 1., 1., 1., 1.]]])"
      ]
     },
     "execution_count": 4,
     "metadata": {},
     "output_type": "execute_result"
    }
   ],
   "source": [
    "x = torch.ones(4, 5, dtype = torch.int32)\n",
    "x\n",
    "c = torch.ones([3, 4, 5], dtype = torch.float32)\n",
    "c"
   ]
  },
  {
   "cell_type": "code",
   "execution_count": null,
   "id": "f413d743",
   "metadata": {},
   "outputs": [
    {
     "data": {
      "text/plain": [
       "tensor([[[3.1400, 3.1400, 3.1400, 3.1400, 3.1400],\n",
       "         [3.1400, 3.1400, 3.1400, 3.1400, 3.1400],\n",
       "         [3.1400, 3.1400, 3.1400, 3.1400, 3.1400],\n",
       "         [3.1400, 3.1400, 3.1400, 3.1400, 3.1400]],\n",
       "\n",
       "        [[3.1400, 3.1400, 3.1400, 3.1400, 3.1400],\n",
       "         [3.1400, 3.1400, 3.1400, 3.1400, 3.1400],\n",
       "         [3.1400, 3.1400, 3.1400, 3.1400, 3.1400],\n",
       "         [3.1400, 3.1400, 3.1400, 3.1400, 3.1400]],\n",
       "\n",
       "        [[3.1400, 3.1400, 3.1400, 3.1400, 3.1400],\n",
       "         [3.1400, 3.1400, 3.1400, 3.1400, 3.1400],\n",
       "         [3.1400, 3.1400, 3.1400, 3.1400, 3.1400],\n",
       "         [3.1400, 3.1400, 3.1400, 3.1400, 3.1400]]])"
      ]
     },
     "execution_count": 5,
     "metadata": {},
     "output_type": "execute_result"
    }
   ],
   "source": [
    "torch.full((3, 4, 5), 3.14, dtype = torch.float32, device = 'cpu', requires_grad = False, pin_memory = False, memory_format = torch.preserve_format)"
   ]
  },
  {
   "cell_type": "code",
   "execution_count": 6,
   "id": "98e330e8",
   "metadata": {},
   "outputs": [
    {
     "name": "stdout",
     "output_type": "stream",
     "text": [
      "tensor([[9, 9, 9],\n",
      "        [9, 9, 9]])\n"
     ]
    }
   ],
   "source": [
    "import torch\n",
    "\n",
    "x = torch.tensor([[1, 2, 3],\n",
    "                  [4, 5, 6]])\n",
    "\n",
    "y = torch.full_like(x, 9)\n",
    "print(y)"
   ]
  },
  {
   "cell_type": "code",
   "execution_count": 8,
   "id": "cc53a2f4",
   "metadata": {},
   "outputs": [
    {
     "name": "stdout",
     "output_type": "stream",
     "text": [
      "tensor([[3.1400, 3.1400, 3.1400],\n",
      "        [3.1400, 3.1400, 3.1400],\n",
      "        [3.1400, 3.1400, 3.1400],\n",
      "        [3.1400, 3.1400, 3.1400]])\n"
     ]
    }
   ],
   "source": [
    "newTensor= torch.full((4, 3), 3.14,dtype= torch.float32)\n",
    "print(newTensor)\n"
   ]
  },
  {
   "cell_type": "code",
   "execution_count": null,
   "id": "cf994d2a",
   "metadata": {},
   "outputs": [
    {
     "name": "stdout",
     "output_type": "stream",
     "text": [
      "tensor([[3.2400, 3.2400, 3.2400],\n",
      "        [3.2400, 3.2400, 3.2400],\n",
      "        [3.2400, 3.2400, 3.2400],\n",
      "        [3.2400, 3.2400, 3.2400]])\n"
     ]
    }
   ],
   "source": [
    "x = torch.full_like(newTensor,3.24, dtype=None ) # Bu function tensorning o'lchamini saqlab qoladi\n",
    "print(x)"
   ]
  },
  {
   "cell_type": "code",
   "execution_count": 12,
   "id": "264aabd7",
   "metadata": {},
   "outputs": [
    {
     "ename": "TypeError",
     "evalue": "cannot create 'torch.dtype' instances",
     "output_type": "error",
     "traceback": [
      "\u001b[31m---------------------------------------------------------------------------\u001b[39m",
      "\u001b[31mTypeError\u001b[39m                                 Traceback (most recent call last)",
      "\u001b[36mCell\u001b[39m\u001b[36m \u001b[39m\u001b[32mIn[12]\u001b[39m\u001b[32m, line 2\u001b[39m\n\u001b[32m      1\u001b[39m torch.device(\u001b[33m'\u001b[39m\u001b[33mcuda:0\u001b[39m\u001b[33m'\u001b[39m) \u001b[38;5;66;03m# Bu funksiyani vazifasi qurilmani tanlash va \u001b[39;00m\n\u001b[32m----> \u001b[39m\u001b[32m2\u001b[39m \u001b[43mtorch\u001b[49m\u001b[43m.\u001b[49m\u001b[43mdtype\u001b[49m\u001b[43m(\u001b[49m\u001b[43mtorch\u001b[49m\u001b[43m.\u001b[49m\u001b[43mfloat32\u001b[49m\u001b[43m)\u001b[49m \u001b[38;5;66;03m# Bu funksiyani vazifasi tensorning ma'lumot turini tanlash\u001b[39;00m\n",
      "\u001b[31mTypeError\u001b[39m: cannot create 'torch.dtype' instances"
     ]
    }
   ],
   "source": [
    "torch.device('cuda:0') # Bu funksiyani vazifasi qurilmani tanlash va \n",
    "torch.dtype(torch.float32) # Bu funksiyani vazifasi tensorning ma'lumot turini tanlash"
   ]
  },
  {
   "cell_type": "code",
   "execution_count": null,
   "id": "75e7f6b7",
   "metadata": {},
   "outputs": [],
   "source": []
  }
 ],
 "metadata": {
  "kernelspec": {
   "display_name": "venv",
   "language": "python",
   "name": "python3"
  },
  "language_info": {
   "codemirror_mode": {
    "name": "ipython",
    "version": 3
   },
   "file_extension": ".py",
   "mimetype": "text/x-python",
   "name": "python",
   "nbconvert_exporter": "python",
   "pygments_lexer": "ipython3",
   "version": "3.12.3"
  }
 },
 "nbformat": 4,
 "nbformat_minor": 5
}
