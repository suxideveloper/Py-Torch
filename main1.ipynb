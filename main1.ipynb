{
 "cells": [
  {
   "cell_type": "code",
   "execution_count": 7,
   "id": "366ba261",
   "metadata": {},
   "outputs": [
    {
     "name": "stdout",
     "output_type": "stream",
     "text": [
      "Hello world!\n"
     ]
    }
   ],
   "source": [
    "print(\"Hello world!\")"
   ]
  },
  {
   "cell_type": "markdown",
   "id": "dd4ad714",
   "metadata": {},
   "source": [
    "Bu nvidia-smi buyrug`i GPU ni statisticasini chiqarib beradi"
   ]
  },
  {
   "cell_type": "code",
   "execution_count": 8,
   "id": "755998ce",
   "metadata": {},
   "outputs": [
    {
     "name": "stdout",
     "output_type": "stream",
     "text": [
      "Wed Oct  8 17:42:49 2025       \n",
      "+-----------------------------------------------------------------------------------------+\n",
      "| NVIDIA-SMI 580.65.06              Driver Version: 580.65.06      CUDA Version: 13.0     |\n",
      "+-----------------------------------------+------------------------+----------------------+\n",
      "| GPU  Name                 Persistence-M | Bus-Id          Disp.A | Volatile Uncorr. ECC |\n",
      "| Fan  Temp   Perf          Pwr:Usage/Cap |           Memory-Usage | GPU-Util  Compute M. |\n",
      "|                                         |                        |               MIG M. |\n",
      "|=========================================+========================+======================|\n",
      "|   0  NVIDIA GeForce GTX 1660 Ti     Off |   00000000:01:00.0  On |                  N/A |\n",
      "| N/A   46C    P8              6W /   80W |     653MiB /   6144MiB |     20%      Default |\n",
      "|                                         |                        |                  N/A |\n",
      "+-----------------------------------------+------------------------+----------------------+\n",
      "\n",
      "+-----------------------------------------------------------------------------------------+\n",
      "| Processes:                                                                              |\n",
      "|  GPU   GI   CI              PID   Type   Process name                        GPU Memory |\n",
      "|        ID   ID                                                               Usage      |\n",
      "|=========================================================================================|\n",
      "|    0   N/A  N/A            2330      G   /usr/lib/xorg/Xorg                      274MiB |\n",
      "|    0   N/A  N/A            2572      G   /usr/bin/gnome-shell                    124MiB |\n",
      "|    0   N/A  N/A            3335      G   ...6814/usr/bin/telegram-desktop          1MiB |\n",
      "|    0   N/A  N/A            3873      G   ...ersion=20251007-170052.856000        110MiB |\n",
      "|    0   N/A  N/A            4156      G   /proc/self/exe                          114MiB |\n",
      "+-----------------------------------------------------------------------------------------+\n"
     ]
    }
   ],
   "source": [
    "!nvidia-smi\n"
   ]
  },
  {
   "cell_type": "code",
   "execution_count": 96,
   "id": "92a54d4f",
   "metadata": {},
   "outputs": [
    {
     "name": "stdout",
     "output_type": "stream",
     "text": [
      "2.8.0+cu128\n"
     ]
    }
   ],
   "source": [
    "import torch \n",
    "import pandas as pd\n",
    "import numpy as np\n",
    "import matplotlib.pyplot as plt\n",
    "print(torch.__version__)"
   ]
  },
  {
   "cell_type": "markdown",
   "id": "e97ab4d5",
   "metadata": {},
   "source": [
    "Introduction to Tensor"
   ]
  },
  {
   "cell_type": "markdown",
   "id": "1ca772a4",
   "metadata": {},
   "source": [
    "Creating tensors"
   ]
  },
  {
   "cell_type": "code",
   "execution_count": 15,
   "id": "143bf473",
   "metadata": {},
   "outputs": [
    {
     "data": {
      "text/plain": [
       "tensor(7)"
      ]
     },
     "execution_count": 15,
     "metadata": {},
     "output_type": "execute_result"
    }
   ],
   "source": [
    "# scalars, vectors, matrices, tensors\n",
    "# 0D, 1D, 2D, 3D, nD tensors\n",
    "scalar = torch.tensor(7)\n",
    "scalar"
   ]
  },
  {
   "cell_type": "code",
   "execution_count": null,
   "id": "ef3a84d1",
   "metadata": {},
   "outputs": [],
   "source": [
    "# learn Torch tensors are created using torch.tensor() function"
   ]
  },
  {
   "cell_type": "code",
   "execution_count": 16,
   "id": "551f2df1",
   "metadata": {},
   "outputs": [
    {
     "data": {
      "text/plain": [
       "0"
      ]
     },
     "execution_count": 16,
     "metadata": {},
     "output_type": "execute_result"
    }
   ],
   "source": [
    "scalar.ndim"
   ]
  },
  {
   "cell_type": "code",
   "execution_count": 18,
   "id": "6adbc5e2",
   "metadata": {},
   "outputs": [
    {
     "data": {
      "text/plain": [
       "7"
      ]
     },
     "execution_count": 18,
     "metadata": {},
     "output_type": "execute_result"
    }
   ],
   "source": [
    "# Get tensor back as Python int \n",
    "scalar.item() "
   ]
  },
  {
   "cell_type": "code",
   "execution_count": 19,
   "id": "9365db96",
   "metadata": {},
   "outputs": [
    {
     "data": {
      "text/plain": [
       "tensor([7, 7])"
      ]
     },
     "execution_count": 19,
     "metadata": {},
     "output_type": "execute_result"
    }
   ],
   "source": [
    "# Vector\n",
    "vector = torch.tensor([7, 7])\n",
    "vector"
   ]
  },
  {
   "cell_type": "code",
   "execution_count": null,
   "id": "0d071cbb",
   "metadata": {},
   "outputs": [
    {
     "data": {
      "text/plain": [
       "1"
      ]
     },
     "execution_count": 20,
     "metadata": {},
     "output_type": "execute_result"
    }
   ],
   "source": [
    "vector.ndim # this number of square brackets indicates the number of dimensions"
   ]
  },
  {
   "cell_type": "code",
   "execution_count": 22,
   "id": "65ceb1ff",
   "metadata": {},
   "outputs": [
    {
     "data": {
      "text/plain": [
       "torch.Size([2])"
      ]
     },
     "execution_count": 22,
     "metadata": {},
     "output_type": "execute_result"
    }
   ],
   "source": [
    "vector.shape    # shape of the tensor describes how many elements in each dimension"
   ]
  },
  {
   "cell_type": "code",
   "execution_count": 23,
   "id": "03778415",
   "metadata": {},
   "outputs": [
    {
     "data": {
      "text/plain": [
       "tensor([[ 7,  8],\n",
       "        [ 9, 10]])"
      ]
     },
     "execution_count": 23,
     "metadata": {},
     "output_type": "execute_result"
    }
   ],
   "source": [
    "# MTRIX\n",
    "MATRIX = torch.tensor([[7, 8],\n",
    "                       [9, 10]])\n",
    "MATRIX"
   ]
  },
  {
   "cell_type": "code",
   "execution_count": 29,
   "id": "bec1c80a",
   "metadata": {},
   "outputs": [
    {
     "data": {
      "text/plain": [
       "2"
      ]
     },
     "execution_count": 29,
     "metadata": {},
     "output_type": "execute_result"
    }
   ],
   "source": [
    "MATRIX.ndim # this number of square brackets indicates the number of dimensions\n",
    "   # shape of the tensor describes how many elements in each dimension"
   ]
  },
  {
   "cell_type": "code",
   "execution_count": 32,
   "id": "b585ff6f",
   "metadata": {},
   "outputs": [
    {
     "data": {
      "text/plain": [
       "torch.Size([2, 2])"
      ]
     },
     "execution_count": 32,
     "metadata": {},
     "output_type": "execute_result"
    }
   ],
   "source": [
    "MATRIX.shape # rows, columns"
   ]
  },
  {
   "cell_type": "code",
   "execution_count": 34,
   "id": "79f25492",
   "metadata": {},
   "outputs": [
    {
     "data": {
      "text/plain": [
       "2"
      ]
     },
     "execution_count": 34,
     "metadata": {},
     "output_type": "execute_result"
    }
   ],
   "source": [
    "MATRIX.ndim"
   ]
  },
  {
   "cell_type": "code",
   "execution_count": 36,
   "id": "008310e3",
   "metadata": {},
   "outputs": [
    {
     "data": {
      "text/plain": [
       "tensor([7, 8])"
      ]
     },
     "execution_count": 36,
     "metadata": {},
     "output_type": "execute_result"
    }
   ],
   "source": [
    "MATRIX[0] # first row\n"
   ]
  },
  {
   "cell_type": "code",
   "execution_count": 38,
   "id": "378cf6cd",
   "metadata": {},
   "outputs": [
    {
     "data": {
      "text/plain": [
       "tensor([ 9, 10])"
      ]
     },
     "execution_count": 38,
     "metadata": {},
     "output_type": "execute_result"
    }
   ],
   "source": [
    "MATRIX[1] # second row"
   ]
  },
  {
   "cell_type": "code",
   "execution_count": 41,
   "id": "83a4d0f6",
   "metadata": {},
   "outputs": [
    {
     "data": {
      "text/plain": [
       "tensor([[[1, 2, 3],\n",
       "         [4, 5, 6],\n",
       "         [7, 8, 9]]])"
      ]
     },
     "execution_count": 41,
     "metadata": {},
     "output_type": "execute_result"
    }
   ],
   "source": [
    "TENSOR = torch.tensor([[[1, 2, 3],\n",
    "                        [4, 5, 6],\n",
    "                        [7, 8, 9]]])\n",
    "TENSOR"
   ]
  },
  {
   "cell_type": "code",
   "execution_count": 43,
   "id": "19cf35ef",
   "metadata": {},
   "outputs": [
    {
     "data": {
      "text/plain": [
       "3"
      ]
     },
     "execution_count": 43,
     "metadata": {},
     "output_type": "execute_result"
    }
   ],
   "source": [
    "TENSOR.ndim\n"
   ]
  },
  {
   "cell_type": "code",
   "execution_count": 45,
   "id": "b37855d1",
   "metadata": {},
   "outputs": [
    {
     "data": {
      "text/plain": [
       "torch.Size([1, 3, 3])"
      ]
     },
     "execution_count": 45,
     "metadata": {},
     "output_type": "execute_result"
    }
   ],
   "source": [
    "TENSOR.shape"
   ]
  },
  {
   "cell_type": "code",
   "execution_count": 48,
   "id": "459881a6",
   "metadata": {},
   "outputs": [
    {
     "data": {
      "text/plain": [
       "tensor([[1, 2, 3],\n",
       "        [4, 5, 6],\n",
       "        [7, 8, 9]])"
      ]
     },
     "execution_count": 48,
     "metadata": {},
     "output_type": "execute_result"
    }
   ],
   "source": [
    "TENSOR[0] # first matrix"
   ]
  },
  {
   "cell_type": "markdown",
   "id": "fe48f6bf",
   "metadata": {},
   "source": [
    "Random Tensors are important because the way many neural networks  learn is that tey start with tensors full of random numbers and then adjust those random numbers to better represent the data."
   ]
  },
  {
   "cell_type": "code",
   "execution_count": 54,
   "id": "8788419b",
   "metadata": {},
   "outputs": [
    {
     "data": {
      "text/plain": [
       "tensor([[0.9188, 0.9530, 0.1738, 0.1899],\n",
       "        [0.5204, 0.0556, 0.7219, 0.2832],\n",
       "        [0.1210, 0.1537, 0.0440, 0.7371]])"
      ]
     },
     "execution_count": 54,
     "metadata": {},
     "output_type": "execute_result"
    }
   ],
   "source": [
    "random_tensor = torch.rand(3, 4) # 3D tensor of random numbers between 0 and 1\n",
    "random_tensor"
   ]
  },
  {
   "cell_type": "code",
   "execution_count": 55,
   "id": "a8607592",
   "metadata": {},
   "outputs": [
    {
     "data": {
      "text/plain": [
       "2"
      ]
     },
     "execution_count": 55,
     "metadata": {},
     "output_type": "execute_result"
    }
   ],
   "source": [
    "random_tensor.ndim"
   ]
  },
  {
   "cell_type": "code",
   "execution_count": 56,
   "id": "91fe8cb1",
   "metadata": {},
   "outputs": [
    {
     "data": {
      "text/plain": [
       "(torch.Size([224, 224, 3]), 3)"
      ]
     },
     "execution_count": 56,
     "metadata": {},
     "output_type": "execute_result"
    }
   ],
   "source": [
    "random_image_size = torch.rand(224, 224, 3) # height, width, color channels (RGB)\n",
    "random_image_size.shape , random_image_size.ndim"
   ]
  },
  {
   "cell_type": "code",
   "execution_count": 12,
   "id": "ecc7aad8",
   "metadata": {},
   "outputs": [
    {
     "ename": "NameError",
     "evalue": "name 'torch' is not defined",
     "output_type": "error",
     "traceback": [
      "\u001b[31m---------------------------------------------------------------------------\u001b[39m",
      "\u001b[31mNameError\u001b[39m                                 Traceback (most recent call last)",
      "\u001b[36mCell\u001b[39m\u001b[36m \u001b[39m\u001b[32mIn[12]\u001b[39m\u001b[32m, line 1\u001b[39m\n\u001b[32m----> \u001b[39m\u001b[32m1\u001b[39m \u001b[43mtorch\u001b[49m.rand(size=(\u001b[32m3\u001b[39m, \u001b[32m4\u001b[39m)) \u001b[38;5;66;03m# another way of creating a random tensor\u001b[39;00m\n",
      "\u001b[31mNameError\u001b[39m: name 'torch' is not defined"
     ]
    }
   ],
   "source": [
    "torch.rand(size=(3, 4)) # another way of creating a random tensor\n"
   ]
  },
  {
   "cell_type": "code",
   "execution_count": 64,
   "id": "d99a9778",
   "metadata": {},
   "outputs": [
    {
     "data": {
      "text/plain": [
       "tensor([[0., 0., 0., 0.],\n",
       "        [0., 0., 0., 0.],\n",
       "        [0., 0., 0., 0.]])"
      ]
     },
     "execution_count": 64,
     "metadata": {},
     "output_type": "execute_result"
    }
   ],
   "source": [
    "# Create a tensor of all zeros \n",
    "zeros = torch.zeros(size=(3, 4))\n",
    "zeros"
   ]
  },
  {
   "cell_type": "code",
   "execution_count": 65,
   "id": "f078135d",
   "metadata": {},
   "outputs": [
    {
     "data": {
      "text/plain": [
       "tensor([[0., 0., 0., 0.],\n",
       "        [0., 0., 0., 0.],\n",
       "        [0., 0., 0., 0.]])"
      ]
     },
     "execution_count": 65,
     "metadata": {},
     "output_type": "execute_result"
    }
   ],
   "source": [
    "zeros * random_tensor"
   ]
  },
  {
   "cell_type": "code",
   "execution_count": 16,
   "id": "3e10155c",
   "metadata": {},
   "outputs": [
    {
     "data": {
      "text/plain": [
       "tensor([[1., 1., 1., 1.],\n",
       "        [1., 1., 1., 1.],\n",
       "        [1., 1., 1., 1.]])"
      ]
     },
     "execution_count": 16,
     "metadata": {},
     "output_type": "execute_result"
    }
   ],
   "source": [
    "ones = torch.ones(size = (3, 4))\n",
    "ones"
   ]
  },
  {
   "cell_type": "code",
   "execution_count": 17,
   "id": "796aceb2",
   "metadata": {},
   "outputs": [
    {
     "data": {
      "text/plain": [
       "torch.float32"
      ]
     },
     "execution_count": 17,
     "metadata": {},
     "output_type": "execute_result"
    }
   ],
   "source": [
    "ones.dtype"
   ]
  },
  {
   "cell_type": "code",
   "execution_count": 13,
   "id": "7e163e93",
   "metadata": {},
   "outputs": [
    {
     "data": {
      "text/plain": [
       "tensor([0, 1, 2, 3, 4, 5, 6, 7, 8, 9])"
      ]
     },
     "execution_count": 13,
     "metadata": {},
     "output_type": "execute_result"
    }
   ],
   "source": [
    "torch.arange(0, 10) # deprecated\n"
   ]
  },
  {
   "cell_type": "code",
   "execution_count": 12,
   "id": "58d03b5e",
   "metadata": {},
   "outputs": [
    {
     "data": {
      "text/plain": [
       "(tensor([ 2.,  3., 10.]), torch.float32)"
      ]
     },
     "execution_count": 12,
     "metadata": {},
     "output_type": "execute_result"
    }
   ],
   "source": [
    "float_32_tensor = torch.tensor([2.0, 3.0, 10.0], dtype=None)\n",
    "float_32_tensor,  float_32_tensor.dtype\n"
   ]
  },
  {
   "cell_type": "code",
   "execution_count": 20,
   "id": "29a4c29a",
   "metadata": {},
   "outputs": [
    {
     "data": {
      "text/plain": [
       "(tensor([3., 6., 9.]), torch.float32)"
      ]
     },
     "execution_count": 20,
     "metadata": {},
     "output_type": "execute_result"
    }
   ],
   "source": [
    "float_tensor = torch.tensor([3.0, 6.0, 9.0], \n",
    "                            dtype=torch.float32,\n",
    "                            device = None,\n",
    "                            requires_grad = False) # specify the datatype of a tensor upon creation\n",
    "float_tensor, float_tensor.dtype"
   ]
  },
  {
   "cell_type": "code",
   "execution_count": 22,
   "id": "af06bce5",
   "metadata": {},
   "outputs": [
    {
     "data": {
      "text/plain": [
       "(tensor([3., 6., 9.], dtype=torch.float16), torch.float16)"
      ]
     },
     "execution_count": 22,
     "metadata": {},
     "output_type": "execute_result"
    }
   ],
   "source": [
    "float_tensor_16 = float_tensor.type(torch.float16)\n",
    "float_tensor_16, float_tensor_16.dtype"
   ]
  },
  {
   "cell_type": "code",
   "execution_count": 23,
   "id": "f2ce7d3c",
   "metadata": {},
   "outputs": [
    {
     "data": {
      "text/plain": [
       "tensor([ 9., 36., 81.])"
      ]
     },
     "execution_count": 23,
     "metadata": {},
     "output_type": "execute_result"
    }
   ],
   "source": [
    "float_tensor * float_tensor_16\n"
   ]
  },
  {
   "cell_type": "code",
   "execution_count": 25,
   "id": "1aa982e1",
   "metadata": {},
   "outputs": [
    {
     "data": {
      "text/plain": [
       "tensor([3, 4, 5], dtype=torch.int32)"
      ]
     },
     "execution_count": 25,
     "metadata": {},
     "output_type": "execute_result"
    }
   ],
   "source": [
    "int_32_tensor = torch.tensor([3, 4, 5], dtype = torch.int32)\n",
    "int_32_tensor"
   ]
  },
  {
   "cell_type": "code",
   "execution_count": 27,
   "id": "8ddbf7c0",
   "metadata": {},
   "outputs": [
    {
     "data": {
      "text/plain": [
       "tensor([ 9., 24., 45.], dtype=torch.float16)"
      ]
     },
     "execution_count": 27,
     "metadata": {},
     "output_type": "execute_result"
    }
   ],
   "source": [
    "int_32_tensor * float_tensor_16"
   ]
  },
  {
   "cell_type": "code",
   "execution_count": null,
   "id": "1794e960",
   "metadata": {},
   "outputs": [
    {
     "data": {
      "text/plain": [
       "tensor([3, 4, 5])"
      ]
     },
     "execution_count": 29,
     "metadata": {},
     "output_type": "execute_result"
    }
   ],
   "source": [
    "int_32_tensor_new = torch.tensor([3,4,5], dtype = torch.long) # Bu variant int32 ni urniga log ni ham yozsa buladi \n",
    "int_32_tensor_new"
   ]
  },
  {
   "cell_type": "markdown",
   "id": "438c9a0d",
   "metadata": {},
   "source": [
    "### Getting information from tensors"
   ]
  },
  {
   "cell_type": "code",
   "execution_count": 30,
   "id": "61579acc",
   "metadata": {},
   "outputs": [
    {
     "data": {
      "text/plain": [
       "tensor([[0.9132, 0.9572, 0.6001, 0.9595],\n",
       "        [0.9975, 0.3634, 0.8276, 0.4299],\n",
       "        [0.5197, 0.7970, 0.8236, 0.2269]])"
      ]
     },
     "execution_count": 30,
     "metadata": {},
     "output_type": "execute_result"
    }
   ],
   "source": [
    "some_tensor = torch.rand(3,4)\n",
    "some_tensor"
   ]
  },
  {
   "cell_type": "markdown",
   "id": "bd976343",
   "metadata": {},
   "source": [
    "# Find out detials about some tensor\n"
   ]
  },
  {
   "cell_type": "code",
   "execution_count": 32,
   "id": "deaf1bd0",
   "metadata": {},
   "outputs": [
    {
     "name": "stdout",
     "output_type": "stream",
     "text": [
      "tensor([[0.9132, 0.9572, 0.6001, 0.9595],\n",
      "        [0.9975, 0.3634, 0.8276, 0.4299],\n",
      "        [0.5197, 0.7970, 0.8236, 0.2269]])\n",
      "Datatype of tensor: torch.float32\n",
      "Shape of tensor: torch.Size([3, 4])\n",
      "Device tensor is on: cpu\n"
     ]
    }
   ],
   "source": [
    "print(some_tensor)\n",
    "print(f\"Datatype of tensor: {some_tensor.dtype}\")\n",
    "print(f\"Shape of tensor: {some_tensor.shape}\")\n",
    "print(f\"Device tensor is on: {some_tensor.device}\")"
   ]
  },
  {
   "cell_type": "markdown",
   "id": "c3599b7a",
   "metadata": {},
   "source": [
    "# Manipulating Tensors (tensor  operations)\n",
    "Tensor operations include \n",
    "* Addition\n",
    "* Subtraction\n",
    "* Multiplications\n",
    "* Division\n",
    "* Matrix multiplication\n",
    "\n"
   ]
  },
  {
   "cell_type": "code",
   "execution_count": 6,
   "id": "25accc64",
   "metadata": {},
   "outputs": [
    {
     "data": {
      "text/plain": [
       "tensor([13, 14, 16])"
      ]
     },
     "execution_count": 6,
     "metadata": {},
     "output_type": "execute_result"
    }
   ],
   "source": [
    "tensor = torch.tensor([1, 2, 4])\n",
    "tensor + 12 \n",
    " "
   ]
  },
  {
   "cell_type": "code",
   "execution_count": null,
   "id": "8bad54d9",
   "metadata": {},
   "outputs": [
    {
     "data": {
      "text/plain": [
       "tensor([10, 20, 40])"
      ]
     },
     "execution_count": 37,
     "metadata": {},
     "output_type": "execute_result"
    }
   ],
   "source": [
    "tensor * 10 # kupaytirish amali\n"
   ]
  },
  {
   "cell_type": "code",
   "execution_count": null,
   "id": "eca9d592",
   "metadata": {},
   "outputs": [
    {
     "data": {
      "text/plain": [
       "tensor([-9, -8, -6])"
      ]
     },
     "execution_count": 39,
     "metadata": {},
     "output_type": "execute_result"
    }
   ],
   "source": [
    "tensor - 10 # ayirish amali\n"
   ]
  },
  {
   "cell_type": "code",
   "execution_count": 52,
   "id": "1464a9f9",
   "metadata": {},
   "outputs": [
    {
     "data": {
      "text/plain": [
       "tensor([0.1000, 0.2000, 0.4000])"
      ]
     },
     "execution_count": 52,
     "metadata": {},
     "output_type": "execute_result"
    }
   ],
   "source": [
    "tensor / 10 # Bulish amali \n"
   ]
  },
  {
   "cell_type": "markdown",
   "id": "2ff50dff",
   "metadata": {},
   "source": [
    "# Try out PyTorch build-in functions"
   ]
  },
  {
   "cell_type": "code",
   "execution_count": 7,
   "id": "9d54d894",
   "metadata": {},
   "outputs": [
    {
     "data": {
      "text/plain": [
       "tensor([10, 20, 40])"
      ]
     },
     "execution_count": 7,
     "metadata": {},
     "output_type": "execute_result"
    }
   ],
   "source": [
    "torch.mul(tensor, 10) # kupaytirish"
   ]
  },
  {
   "cell_type": "code",
   "execution_count": 56,
   "id": "ddd10519",
   "metadata": {},
   "outputs": [
    {
     "data": {
      "text/plain": [
       "tensor([11, 12, 14])"
      ]
     },
     "execution_count": 56,
     "metadata": {},
     "output_type": "execute_result"
    }
   ],
   "source": [
    "torch.add(tensor, 10) "
   ]
  },
  {
   "cell_type": "code",
   "execution_count": 63,
   "id": "958117ed",
   "metadata": {},
   "outputs": [
    {
     "name": "stdout",
     "output_type": "stream",
     "text": [
      "tensor([1, 2, 4]) * tensor([1, 2, 4])\n",
      "Equals: tensor([ 1,  4, 16])\n"
     ]
    }
   ],
   "source": [
    "print(tensor , '*' , tensor)\n",
    "print(f\"Equals: {tensor * tensor }\")\n"
   ]
  },
  {
   "cell_type": "code",
   "execution_count": 8,
   "id": "640ad38b",
   "metadata": {},
   "outputs": [
    {
     "data": {
      "text/plain": [
       "tensor(21)"
      ]
     },
     "execution_count": 8,
     "metadata": {},
     "output_type": "execute_result"
    }
   ],
   "source": [
    "torch.matmul(tensor, tensor)"
   ]
  },
  {
   "cell_type": "code",
   "execution_count": 66,
   "id": "93ebce1a",
   "metadata": {},
   "outputs": [
    {
     "name": "stdout",
     "output_type": "stream",
     "text": [
      "CPU times: user 3.35 ms, sys: 1.08 ms, total: 4.42 ms\n",
      "Wall time: 9.59 ms\n"
     ]
    },
    {
     "data": {
      "text/plain": [
       "tensor(21)"
      ]
     },
     "execution_count": 66,
     "metadata": {},
     "output_type": "execute_result"
    }
   ],
   "source": [
    "%%time \n",
    "value = 0\n",
    "for i in range(len(tensor)):\n",
    "    value += tensor[i] * tensor[i]\n",
    "\n",
    "value\n"
   ]
  },
  {
   "cell_type": "code",
   "execution_count": 73,
   "id": "6118eeaa",
   "metadata": {},
   "outputs": [
    {
     "name": "stdout",
     "output_type": "stream",
     "text": [
      "1\n",
      "2\n",
      "4\n",
      "5\n",
      "6\n",
      "7\n"
     ]
    }
   ],
   "source": [
    "a = [1,2,4,5,6,7]\n",
    "for i in a:\n",
    "\n",
    "    print(i)"
   ]
  },
  {
   "cell_type": "code",
   "execution_count": 15,
   "id": "06433c5f",
   "metadata": {},
   "outputs": [
    {
     "name": "stdout",
     "output_type": "stream",
     "text": [
      "CPU times: user 44 μs, sys: 7 μs, total: 51 μs\n",
      "Wall time: 54.6 μs\n"
     ]
    },
    {
     "data": {
      "text/plain": [
       "tensor(21)"
      ]
     },
     "execution_count": 15,
     "metadata": {},
     "output_type": "execute_result"
    }
   ],
   "source": [
    "%%time\n",
    "torch.matmul(tensor, tensor)\n"
   ]
  },
  {
   "cell_type": "code",
   "execution_count": 16,
   "id": "f805dcd6",
   "metadata": {},
   "outputs": [
    {
     "data": {
      "text/plain": [
       "tensor(21)"
      ]
     },
     "execution_count": 16,
     "metadata": {},
     "output_type": "execute_result"
    }
   ],
   "source": [
    "tensor @ tensor "
   ]
  },
  {
   "cell_type": "markdown",
   "id": "550d2d1b",
   "metadata": {},
   "source": [
    "The inner dimensions must match:\n",
    "* (3, 2) @ (3, 2) won't work\n",
    "* (2, 3) @ (3, 2) will work\n",
    "* (3, 2) @ (2, 3) will work "
   ]
  },
  {
   "cell_type": "code",
   "execution_count": null,
   "id": "f4ee879d",
   "metadata": {},
   "outputs": [],
   "source": []
  },
  {
   "cell_type": "code",
   "execution_count": 19,
   "id": "2a45dd60",
   "metadata": {},
   "outputs": [
    {
     "data": {
      "text/plain": [
       "torch.Size([2, 2])"
      ]
     },
     "execution_count": 19,
     "metadata": {},
     "output_type": "execute_result"
    }
   ],
   "source": [
    "torch.matmul(torch.rand(2,3), torch.rand(3, 2)).shape"
   ]
  },
  {
   "cell_type": "markdown",
   "id": "bc13e44e",
   "metadata": {},
   "source": [
    "# One of the most common errors in deep learning : Shape errors"
   ]
  },
  {
   "cell_type": "code",
   "execution_count": 23,
   "id": "b7a74140",
   "metadata": {},
   "outputs": [],
   "source": [
    "# Shapes for matrix multiplications\n",
    "tensor_A = torch.tensor([[1,2],\n",
    "                         [3,4],\n",
    "                         [5,6]])\n",
    "tensor_B = torch.tensor([[7,8],\n",
    "                         [9,19],\n",
    "                         [11,23]])\n",
    "#torch.mm(tensor_A, tesnor_B) # torch.mm is the same as torch.matmul (it's an alias for writing less code )\n",
    "  "
   ]
  },
  {
   "cell_type": "code",
   "execution_count": 24,
   "id": "c1b8e7be",
   "metadata": {},
   "outputs": [
    {
     "data": {
      "text/plain": [
       "(torch.Size([3, 2]), torch.Size([3, 2]))"
      ]
     },
     "execution_count": 24,
     "metadata": {},
     "output_type": "execute_result"
    }
   ],
   "source": [
    "tensor_A.shape, tensor_B.shape"
   ]
  },
  {
   "cell_type": "markdown",
   "id": "2beb28ef",
   "metadata": {},
   "source": [
    "# To fix out tensor shape issues, we can manipulate the shape of one of our tensors useing transpose\\\n",
    "# A transpose switches the axes or dimensions of a given tensor"
   ]
  },
  {
   "cell_type": "code",
   "execution_count": 27,
   "id": "a6959820",
   "metadata": {},
   "outputs": [
    {
     "data": {
      "text/plain": [
       "tensor([[ 7,  9, 11],\n",
       "        [ 8, 19, 23]])"
      ]
     },
     "execution_count": 27,
     "metadata": {},
     "output_type": "execute_result"
    }
   ],
   "source": [
    "tensor_B.T"
   ]
  },
  {
   "cell_type": "code",
   "execution_count": 28,
   "id": "67292715",
   "metadata": {},
   "outputs": [
    {
     "data": {
      "text/plain": [
       "tensor([[ 7,  8],\n",
       "        [ 9, 19],\n",
       "        [11, 23]])"
      ]
     },
     "execution_count": 28,
     "metadata": {},
     "output_type": "execute_result"
    }
   ],
   "source": [
    "tensor_B\n"
   ]
  },
  {
   "cell_type": "code",
   "execution_count": 30,
   "id": "aed23f95",
   "metadata": {},
   "outputs": [
    {
     "data": {
      "text/plain": [
       "torch.Size([2, 3])"
      ]
     },
     "execution_count": 30,
     "metadata": {},
     "output_type": "execute_result"
    }
   ],
   "source": [
    "tensor_B.T.shape\n"
   ]
  },
  {
   "cell_type": "code",
   "execution_count": null,
   "id": "778e8cb8",
   "metadata": {},
   "outputs": [
    {
     "data": {
      "text/plain": [
       "torch.Size([3, 2])"
      ]
     },
     "execution_count": 31,
     "metadata": {},
     "output_type": "execute_result"
    }
   ],
   "source": [
    "tensor_B.shape # transpose 3,2 ni 2, 3 ga uzgartiradi"
   ]
  },
  {
   "cell_type": "code",
   "execution_count": 34,
   "id": "96563436",
   "metadata": {},
   "outputs": [
    {
     "data": {
      "text/plain": [
       "torch.Size([3, 2])"
      ]
     },
     "execution_count": 34,
     "metadata": {},
     "output_type": "execute_result"
    }
   ],
   "source": [
    "tensor_A.shape"
   ]
  },
  {
   "cell_type": "code",
   "execution_count": 44,
   "id": "a17247e8",
   "metadata": {},
   "outputs": [
    {
     "name": "stdout",
     "output_type": "stream",
     "text": [
      "Original shapes of tensors: tensor_A = torch.Size([3, 2]), tesnor_B = torch.Size([3, 2])\n",
      "New shapes: tesor_A = tensor([[1, 2],\n",
      "        [3, 4],\n",
      "        [5, 6]]) (same shape as above), tensor_B.T = torch.Size([2, 3])\n",
      "Muplitlying: torch.Size([3, 2]) @ torch.Size([2, 3])\n",
      "Output:\n",
      " \n",
      "tensor([[ 89, 116],\n",
      "        [180, 230]])\n",
      "torch.Size([2, 2])\n"
     ]
    }
   ],
   "source": [
    "print(f\"Original shapes of tensors: tensor_A = {tensor_A.shape}, tesnor_B = {tensor_B.shape}\")\n",
    "print(f\"New shapes: tesor_A = {tensor_A} (same shape as above), tensor_B.T = {tensor_B.T.shape}\")\n",
    "print(f\"Muplitlying: {tensor_A.shape} @ {tensor_B.T.shape}\")\n",
    "print(\"Output:\\n \")\n",
    "output = torch.matmul(tensor_B.T, tensor_A)\n",
    "print(output)\n",
    "print(output.shape)\n"
   ]
  },
  {
   "cell_type": "code",
   "execution_count": 101,
   "id": "2e31d4bb",
   "metadata": {},
   "outputs": [
    {
     "data": {
      "text/plain": [
       "(tensor([ 0, 10, 20, 30, 40, 50, 60, 70, 80, 90]), torch.int64)"
      ]
     },
     "execution_count": 101,
     "metadata": {},
     "output_type": "execute_result"
    }
   ],
   "source": [
    "x = torch.arange(0, 100, 10)\n",
    "x, x.dtype"
   ]
  },
  {
   "cell_type": "code",
   "execution_count": 102,
   "id": "568f3060",
   "metadata": {},
   "outputs": [
    {
     "data": {
      "text/plain": [
       "torch.int64"
      ]
     },
     "execution_count": 102,
     "metadata": {},
     "output_type": "execute_result"
    }
   ],
   "source": [
    "torch.min(x), x.min() # find the min\n",
    "x.dtype"
   ]
  },
  {
   "cell_type": "code",
   "execution_count": 50,
   "id": "a2ee20cd",
   "metadata": {},
   "outputs": [
    {
     "data": {
      "text/plain": [
       "(tensor(90), tensor(90))"
      ]
     },
     "execution_count": 50,
     "metadata": {},
     "output_type": "execute_result"
    }
   ],
   "source": [
    "torch.max(x), x.max() # find the max"
   ]
  },
  {
   "cell_type": "code",
   "execution_count": 55,
   "id": "6eaee9b1",
   "metadata": {},
   "outputs": [
    {
     "data": {
      "text/plain": [
       "(tensor(45.), tensor(45.))"
      ]
     },
     "execution_count": 55,
     "metadata": {},
     "output_type": "execute_result"
    }
   ],
   "source": [
    "torch.mean(x.type(torch.float32)), x.type(torch.float32).mean() \n",
    "# Find the mean - note: the torch .mean() function requires a tensor of float32 to work"
   ]
  },
  {
   "cell_type": "code",
   "execution_count": 59,
   "id": "e17460b9",
   "metadata": {},
   "outputs": [
    {
     "data": {
      "text/plain": [
       "(tensor(450), tensor(450))"
      ]
     },
     "execution_count": 59,
     "metadata": {},
     "output_type": "execute_result"
    }
   ],
   "source": [
    "# Find the sum \n",
    "torch.sum(x), x.sum()"
   ]
  },
  {
   "cell_type": "code",
   "execution_count": 61,
   "id": "3bdf9dd3",
   "metadata": {},
   "outputs": [
    {
     "data": {
      "text/plain": [
       "tensor([ 0, 10, 20, 30, 40, 50, 60, 70, 80, 90])"
      ]
     },
     "execution_count": 61,
     "metadata": {},
     "output_type": "execute_result"
    }
   ],
   "source": [
    "# Findinf the positions of min and max \n",
    "x   "
   ]
  },
  {
   "cell_type": "code",
   "execution_count": 64,
   "id": "e354fcbd",
   "metadata": {},
   "outputs": [
    {
     "data": {
      "text/plain": [
       "tensor(0)"
      ]
     },
     "execution_count": 64,
     "metadata": {},
     "output_type": "execute_result"
    }
   ],
   "source": [
    "# Find the position in tensor that has the  minimum value with argmin() -> returns index position of target tensor \n",
    "x.argmin()"
   ]
  },
  {
   "cell_type": "code",
   "execution_count": 66,
   "id": "38081f57",
   "metadata": {},
   "outputs": [
    {
     "data": {
      "text/plain": [
       "tensor(9)"
      ]
     },
     "execution_count": 66,
     "metadata": {},
     "output_type": "execute_result"
    }
   ],
   "source": [
    "#Find the position in tensor that has the maximum value with argmax()\n",
    "x.argmax()"
   ]
  },
  {
   "cell_type": "code",
   "execution_count": 68,
   "id": "277614fb",
   "metadata": {},
   "outputs": [
    {
     "data": {
      "text/plain": [
       "tensor(90)"
      ]
     },
     "execution_count": 68,
     "metadata": {},
     "output_type": "execute_result"
    }
   ],
   "source": [
    "x[9]"
   ]
  },
  {
   "cell_type": "markdown",
   "id": "06e882f0",
   "metadata": {},
   "source": [
    "# Reshaping, stacking, squeezing and unsqueezing tensors\n",
    "* Reshaping - reshapes an input tensor to a defined shape\n",
    "* View -Return a view of an input tensor of certain shape but keep the same memory as the original tensor\n",
    "* Stacking - combine multipe  vtack tesnors on top of each other (vstack) or side by side  hstack\n",
    "* Squeeze - removes all one dimensions from a tensor\n",
    "* Unsqueeze - add a one dinstions to a target tensor\n",
    "\n",
    "* Permute - return a view of the input with dimenstions permuted (swapped) in certain way  "
   ]
  },
  {
   "cell_type": "code",
   "execution_count": 139,
   "id": "67fb4da9",
   "metadata": {},
   "outputs": [
    {
     "data": {
      "text/plain": [
       "(tensor([1., 2., 3., 4., 5., 6., 7., 8., 9.]), torch.Size([9]))"
      ]
     },
     "execution_count": 139,
     "metadata": {},
     "output_type": "execute_result"
    }
   ],
   "source": [
    "import torch\n",
    "x = torch.arange(1., 10.)\n",
    "x, x.shape"
   ]
  },
  {
   "cell_type": "code",
   "execution_count": 141,
   "id": "29c5b44d",
   "metadata": {},
   "outputs": [
    {
     "data": {
      "text/plain": [
       "(tensor([[1., 2., 3., 4., 5., 6., 7., 8., 9.]]), torch.Size([1, 9]))"
      ]
     },
     "execution_count": 141,
     "metadata": {},
     "output_type": "execute_result"
    }
   ],
   "source": [
    "# Add an extra dimension\n",
    "# Add an extra dimension\n",
    "x_reshaped = x.reshape(1, 9)\n",
    "x_reshaped, x_reshaped.shape"
   ]
  },
  {
   "cell_type": "code",
   "execution_count": 142,
   "id": "40813e9d",
   "metadata": {},
   "outputs": [
    {
     "data": {
      "text/plain": [
       "(tensor([[1., 2., 3., 4., 5., 6., 7., 8., 9.]]), torch.Size([1, 9]))"
      ]
     },
     "execution_count": 142,
     "metadata": {},
     "output_type": "execute_result"
    }
   ],
   "source": [
    "x_reshaped = x.reshape(1, 9) # Add an extra dimension \n",
    "x_reshaped, x_reshaped.shape"
   ]
  },
  {
   "cell_type": "code",
   "execution_count": 120,
   "id": "29edff1e",
   "metadata": {},
   "outputs": [
    {
     "data": {
      "text/plain": [
       "(tensor([[1., 2., 3., 4., 5., 6., 7., 8., 9.]]), torch.Size([1, 9]))"
      ]
     },
     "execution_count": 120,
     "metadata": {},
     "output_type": "execute_result"
    }
   ],
   "source": [
    "z = x.view(1, 9)  # Change the view \n",
    "z, z.shape"
   ]
  },
  {
   "cell_type": "code",
   "execution_count": 122,
   "id": "1266b9d4",
   "metadata": {},
   "outputs": [
    {
     "data": {
      "text/plain": [
       "(tensor([[5., 2., 3., 4., 5., 6., 7., 8., 9.]]),\n",
       " tensor([5., 2., 3., 4., 5., 6., 7., 8., 9.]))"
      ]
     },
     "execution_count": 122,
     "metadata": {},
     "output_type": "execute_result"
    }
   ],
   "source": [
    "z[:, 0] = 5\n",
    "z, x"
   ]
  },
  {
   "cell_type": "code",
   "execution_count": 131,
   "id": "eeb282d3",
   "metadata": {},
   "outputs": [
    {
     "data": {
      "text/plain": [
       "tensor([[5., 2., 3., 4., 5., 6., 7., 8., 9.],\n",
       "        [5., 2., 3., 4., 5., 6., 7., 8., 9.],\n",
       "        [5., 2., 3., 4., 5., 6., 7., 8., 9.],\n",
       "        [5., 2., 3., 4., 5., 6., 7., 8., 9.]])"
      ]
     },
     "execution_count": 131,
     "metadata": {},
     "output_type": "execute_result"
    }
   ],
   "source": [
    "# stack tensor on top of each other \\\n",
    "x_stacked = torch.stack([x,x,x,x], dim = 0)\n",
    "x_stacked"
   ]
  },
  {
   "cell_type": "code",
   "execution_count": 132,
   "id": "a4c91d82",
   "metadata": {},
   "outputs": [],
   "source": [
    "# troch.squeeze()- remove all single dimensions from a target tensor\n",
    " "
   ]
  },
  {
   "cell_type": "code",
   "execution_count": 133,
   "id": "fbe3233c",
   "metadata": {},
   "outputs": [
    {
     "data": {
      "text/plain": [
       "torch.Size([2, 2, 1, 2])"
      ]
     },
     "execution_count": 133,
     "metadata": {},
     "output_type": "execute_result"
    }
   ],
   "source": [
    "\n",
    "\n",
    "x = torch.zeros(2, 1, 2, 1, 2)\n",
    "x.size\n",
    "y = torch.squeeze(x)\n",
    "y.size()\n",
    "y = torch.squeeze(x, 0)\n",
    "y.size()\n",
    "y = torch.squeeze(x, 1)\n",
    "y.size()"
   ]
  },
  {
   "cell_type": "code",
   "execution_count": 153,
   "id": "c888cbf8",
   "metadata": {},
   "outputs": [
    {
     "data": {
      "text/plain": [
       "tensor([[1., 2., 3., 4., 5., 6., 7., 8., 9.]])"
      ]
     },
     "execution_count": 153,
     "metadata": {},
     "output_type": "execute_result"
    }
   ],
   "source": [
    "x_reshaped"
   ]
  },
  {
   "cell_type": "code",
   "execution_count": 154,
   "id": "95e9b3c5",
   "metadata": {},
   "outputs": [
    {
     "data": {
      "text/plain": [
       "torch.Size([1, 9])"
      ]
     },
     "execution_count": 154,
     "metadata": {},
     "output_type": "execute_result"
    }
   ],
   "source": [
    "x_reshaped.shape"
   ]
  },
  {
   "cell_type": "code",
   "execution_count": 155,
   "id": "565df034",
   "metadata": {},
   "outputs": [],
   "source": [
    "x_squeezed = x_reshaped.squeeze()"
   ]
  },
  {
   "cell_type": "code",
   "execution_count": 156,
   "id": "4f183334",
   "metadata": {},
   "outputs": [
    {
     "data": {
      "text/plain": [
       "torch.Size([9])"
      ]
     },
     "execution_count": 156,
     "metadata": {},
     "output_type": "execute_result"
    }
   ],
   "source": [
    "x_reshaped.squeeze().shape"
   ]
  },
  {
   "cell_type": "markdown",
   "id": "96120d0b",
   "metadata": {},
   "source": [
    "# torch.unsqueeze() - adds a single dimension to a target tesnor at a specific dim (dimenson)\n"
   ]
  },
  {
   "cell_type": "code",
   "execution_count": 157,
   "id": "26d2356e",
   "metadata": {},
   "outputs": [
    {
     "data": {
      "text/plain": [
       "tensor([[1., 2., 3., 4., 5., 6., 7., 8., 9.]])"
      ]
     },
     "execution_count": 157,
     "metadata": {},
     "output_type": "execute_result"
    }
   ],
   "source": [
    "x_unsqueezed = x_squeezed.unsqueeze(dim = 0)\n",
    "x_unsqueezed "
   ]
  },
  {
   "cell_type": "code",
   "execution_count": 164,
   "id": "2c05d65b",
   "metadata": {},
   "outputs": [
    {
     "data": {
      "text/plain": [
       "(tensor([[[0.8457, 0.1747, 0.4741,  ..., 0.3431, 0.4211, 0.6923],\n",
       "          [0.5793, 0.8634, 0.2299,  ..., 0.1624, 0.5593, 0.3162],\n",
       "          [0.6793, 0.0287, 0.3260,  ..., 0.4670, 0.0575, 0.8861],\n",
       "          ...,\n",
       "          [0.1060, 0.0844, 0.2229,  ..., 0.5858, 0.5507, 0.5825],\n",
       "          [0.0835, 0.9656, 0.5792,  ..., 0.3998, 0.5849, 0.3925],\n",
       "          [0.9533, 0.3921, 0.4024,  ..., 0.0631, 0.4372, 0.6534]],\n",
       " \n",
       "         [[0.5636, 0.6463, 0.9021,  ..., 0.7085, 0.5563, 0.0914],\n",
       "          [0.3123, 0.8856, 0.9335,  ..., 0.7600, 0.3315, 0.4084],\n",
       "          [0.8714, 0.0910, 0.8798,  ..., 0.4952, 0.5969, 0.3713],\n",
       "          ...,\n",
       "          [0.9205, 0.4194, 0.8514,  ..., 0.3387, 0.7903, 0.5269],\n",
       "          [0.5995, 0.9881, 0.9267,  ..., 0.0330, 0.4224, 0.7596],\n",
       "          [0.0122, 0.8336, 0.7086,  ..., 0.3577, 0.3053, 0.5770]],\n",
       " \n",
       "         [[0.0626, 0.2710, 0.7018,  ..., 0.2476, 0.8111, 0.9647],\n",
       "          [0.3566, 0.3318, 0.3685,  ..., 0.6121, 0.0208, 0.4275],\n",
       "          [0.5451, 0.9093, 0.5368,  ..., 0.0787, 0.1163, 0.9150],\n",
       "          ...,\n",
       "          [0.1094, 0.2413, 0.0353,  ..., 0.5540, 0.0487, 0.7315],\n",
       "          [0.9987, 0.3683, 0.3551,  ..., 0.6533, 0.8276, 0.2743],\n",
       "          [0.7270, 0.9618, 0.1634,  ..., 0.5787, 0.2276, 0.7394]]]),\n",
       " torch.Size([3, 224, 224]),\n",
       " torch.Size([224, 224, 3]))"
      ]
     },
     "execution_count": 164,
     "metadata": {},
     "output_type": "execute_result"
    }
   ],
   "source": [
    "# torch.permute - rearrange the dimensions of a target tensor in a specified order \n",
    "x_original = torch.rand(size = (224, 224,3)) \n",
    "x_permuted = x_original.permute(2, 0, 1)    # shift axis 0->1, 1>2, 2>0\n",
    "x_permuted, x_permuted.shape, x_original.shape"
   ]
  },
  {
   "cell_type": "code",
   "execution_count": 166,
   "id": "c2bc3fc2",
   "metadata": {},
   "outputs": [
    {
     "data": {
      "text/plain": [
       "tensor([[[0.8457, 0.5636, 0.0626],\n",
       "         [0.1747, 0.6463, 0.2710],\n",
       "         [0.4741, 0.9021, 0.7018],\n",
       "         ...,\n",
       "         [0.3431, 0.7085, 0.2476],\n",
       "         [0.4211, 0.5563, 0.8111],\n",
       "         [0.6923, 0.0914, 0.9647]],\n",
       "\n",
       "        [[0.5793, 0.3123, 0.3566],\n",
       "         [0.8634, 0.8856, 0.3318],\n",
       "         [0.2299, 0.9335, 0.3685],\n",
       "         ...,\n",
       "         [0.1624, 0.7600, 0.6121],\n",
       "         [0.5593, 0.3315, 0.0208],\n",
       "         [0.3162, 0.4084, 0.4275]],\n",
       "\n",
       "        [[0.6793, 0.8714, 0.5451],\n",
       "         [0.0287, 0.0910, 0.9093],\n",
       "         [0.3260, 0.8798, 0.5368],\n",
       "         ...,\n",
       "         [0.4670, 0.4952, 0.0787],\n",
       "         [0.0575, 0.5969, 0.1163],\n",
       "         [0.8861, 0.3713, 0.9150]],\n",
       "\n",
       "        ...,\n",
       "\n",
       "        [[0.1060, 0.9205, 0.1094],\n",
       "         [0.0844, 0.4194, 0.2413],\n",
       "         [0.2229, 0.8514, 0.0353],\n",
       "         ...,\n",
       "         [0.5858, 0.3387, 0.5540],\n",
       "         [0.5507, 0.7903, 0.0487],\n",
       "         [0.5825, 0.5269, 0.7315]],\n",
       "\n",
       "        [[0.0835, 0.5995, 0.9987],\n",
       "         [0.9656, 0.9881, 0.3683],\n",
       "         [0.5792, 0.9267, 0.3551],\n",
       "         ...,\n",
       "         [0.3998, 0.0330, 0.6533],\n",
       "         [0.5849, 0.4224, 0.8276],\n",
       "         [0.3925, 0.7596, 0.2743]],\n",
       "\n",
       "        [[0.9533, 0.0122, 0.7270],\n",
       "         [0.3921, 0.8336, 0.9618],\n",
       "         [0.4024, 0.7086, 0.1634],\n",
       "         ...,\n",
       "         [0.0631, 0.3577, 0.5787],\n",
       "         [0.4372, 0.3053, 0.2276],\n",
       "         [0.6534, 0.5770, 0.7394]]])"
      ]
     },
     "execution_count": 166,
     "metadata": {},
     "output_type": "execute_result"
    }
   ],
   "source": [
    "x_original"
   ]
  },
  {
   "cell_type": "markdown",
   "id": "f07868ce",
   "metadata": {},
   "source": [
    "## Indexing (selecting data from tensor)\n",
    "Indexing with PyTorch is simmilar to indexing with NumPy"
   ]
  },
  {
   "cell_type": "code",
   "execution_count": 167,
   "id": "b1a52229",
   "metadata": {},
   "outputs": [
    {
     "data": {
      "text/plain": [
       "(tensor([[[1, 2, 3],\n",
       "          [4, 5, 6],\n",
       "          [7, 8, 9]]]),\n",
       " torch.Size([1, 3, 3]))"
      ]
     },
     "execution_count": 167,
     "metadata": {},
     "output_type": "execute_result"
    }
   ],
   "source": [
    "import torch\n",
    "x = torch.arange(1, 10).reshape(1, 3, 3)\n",
    "x, x.shape"
   ]
  },
  {
   "cell_type": "code",
   "execution_count": null,
   "id": "9d0c911e",
   "metadata": {},
   "outputs": [
    {
     "data": {
      "text/plain": [
       "tensor([1, 2, 3])"
      ]
     },
     "execution_count": 170,
     "metadata": {},
     "output_type": "execute_result"
    }
   ],
   "source": [
    "# let's index on  our new tensor\n",
    "x[0][0]\n",
    "# x[0], x[0][1]"
   ]
  },
  {
   "cell_type": "code",
   "execution_count": 178,
   "id": "3687efee",
   "metadata": {},
   "outputs": [
    {
     "data": {
      "text/plain": [
       "tensor(9)"
      ]
     },
     "execution_count": 178,
     "metadata": {},
     "output_type": "execute_result"
    }
   ],
   "source": [
    "# Let's index on the most inner bracket(last dimension)\\\n",
    "x[0][2][2]"
   ]
  },
  {
   "cell_type": "code",
   "execution_count": null,
   "id": "c40c007f",
   "metadata": {},
   "outputs": [
    {
     "data": {
      "text/plain": [
       "tensor([5])"
      ]
     },
     "execution_count": 182,
     "metadata": {},
     "output_type": "execute_result"
    }
   ],
   "source": [
    "x[:, 0], x[:, :, 1]\n"
   ]
  },
  {
   "cell_type": "code",
   "execution_count": 184,
   "id": "fb43ff28",
   "metadata": {},
   "outputs": [
    {
     "data": {
      "text/plain": [
       "tensor([5])"
      ]
     },
     "execution_count": 184,
     "metadata": {},
     "output_type": "execute_result"
    }
   ],
   "source": [
    "x[:, 1, 1]"
   ]
  },
  {
   "cell_type": "code",
   "execution_count": 187,
   "id": "be1d9ce2",
   "metadata": {},
   "outputs": [
    {
     "data": {
      "text/plain": [
       "tensor([1, 2, 3])"
      ]
     },
     "execution_count": 187,
     "metadata": {},
     "output_type": "execute_result"
    }
   ],
   "source": [
    "x[0, 0, :]"
   ]
  },
  {
   "cell_type": "code",
   "execution_count": 188,
   "id": "97fe6b97",
   "metadata": {},
   "outputs": [
    {
     "name": "stdout",
     "output_type": "stream",
     "text": [
      "tensor(9)\n",
      "tensor([[3, 6, 9]])\n"
     ]
    }
   ],
   "source": [
    "# Index on x to return 9\n",
    "print(x[0][2][2])\n",
    "\n",
    "# Index on x to retur 3, 6, 9\n",
    "print(x[:, :, 2])"
   ]
  },
  {
   "cell_type": "markdown",
   "id": "135b8f41",
   "metadata": {},
   "source": [
    "NumPy is a popular scientific Python numerical computing library \n",
    "And because of this, PyTorch has functionality to interact with it."
   ]
  }
 ],
 "metadata": {
  "kernelspec": {
   "display_name": "venv",
   "language": "python",
   "name": "python3"
  },
  "language_info": {
   "codemirror_mode": {
    "name": "ipython",
    "version": 3
   },
   "file_extension": ".py",
   "mimetype": "text/x-python",
   "name": "python",
   "nbconvert_exporter": "python",
   "pygments_lexer": "ipython3",
   "version": "3.12.3"
  }
 },
 "nbformat": 4,
 "nbformat_minor": 5
}
